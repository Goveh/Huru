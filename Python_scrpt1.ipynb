{
  "nbformat": 4,
  "nbformat_minor": 0,
  "metadata": {
    "colab": {
      "name": "Untitled1.ipynb",
      "provenance": []
    },
    "kernelspec": {
      "name": "python3",
      "display_name": "Python 3"
    },
    "language_info": {
      "name": "python"
    }
  },
  "cells": [
    {
      "cell_type": "markdown",
      "metadata": {
        "id": "u08dzWqHsZaS"
      },
      "source": [
        "First colaboratory *notebook*\n",
        "\n"
      ]
    },
    {
      "cell_type": "code",
      "metadata": {
        "id": "HybeRbZjqYne"
      },
      "source": [
        "# return the average of 2 variables\n",
        "# Begins with defining the function using def\n",
        "def average(n1,n2):\n",
        "    m = (n1 + n2) / 2\n",
        "    return m"
      ],
      "execution_count": 11,
      "outputs": []
    },
    {
      "cell_type": "code",
      "metadata": {
        "id": "0GagZ70GsPLJ"
      },
      "source": [
        "# Use to input \n",
        "a = int(input(\"A = \"))\n",
        "b = int(input(\"B = \"))"
      ],
      "execution_count": null,
      "outputs": []
    },
    {
      "cell_type": "code",
      "metadata": {
        "id": "ynfMoMmztWKl"
      },
      "source": [
        "avrg = average(a , b)\n",
        "print(avrg)"
      ],
      "execution_count": null,
      "outputs": []
    },
    {
      "cell_type": "markdown",
      "metadata": {
        "id": "EvN6qmL_wd0j"
      },
      "source": [
        "# ***Use the library pandas to import data***"
      ]
    },
    {
      "cell_type": "code",
      "metadata": {
        "id": "p3OoXvDKwsBa"
      },
      "source": [
        "import pandas as pd\n",
        "df = pd.read_csv (r\"C:\\Users\\Landyz0o0o0o0\\Desktop\\mtcars.csv\")\n",
        "print(df)"
      ],
      "execution_count": null,
      "outputs": []
    },
    {
      "cell_type": "code",
      "metadata": {
        "id": "FAHOs7HI2crC"
      },
      "source": [
        ""
      ],
      "execution_count": null,
      "outputs": []
    },
    {
      "cell_type": "markdown",
      "metadata": {
        "id": "yyenxjAQ3Jat"
      },
      "source": [
        "# Basic calculations in Python"
      ]
    },
    {
      "cell_type": "code",
      "metadata": {
        "colab": {
          "base_uri": "https://localhost:8080/"
        },
        "id": "rb777jah3PUA",
        "outputId": "f70a9b39-37b6-4a18-e15c-387833034f78"
      },
      "source": [
        "# convert a float variable to integer\n",
        "a = 5.5\n",
        "int(a)"
      ],
      "execution_count": 32,
      "outputs": [
        {
          "output_type": "execute_result",
          "data": {
            "text/plain": [
              "5"
            ]
          },
          "metadata": {
            "tags": []
          },
          "execution_count": 32
        }
      ]
    },
    {
      "cell_type": "code",
      "metadata": {
        "colab": {
          "base_uri": "https://localhost:8080/"
        },
        "id": "6LweKFix3Yvo",
        "outputId": "8ca4a366-ae96-4254-f0a1-653cf0f1395e"
      },
      "source": [
        "# calculate the power\n",
        "4**2"
      ],
      "execution_count": 33,
      "outputs": [
        {
          "output_type": "execute_result",
          "data": {
            "text/plain": [
              "16"
            ]
          },
          "metadata": {
            "tags": []
          },
          "execution_count": 33
        }
      ]
    },
    {
      "cell_type": "code",
      "metadata": {
        "colab": {
          "base_uri": "https://localhost:8080/"
        },
        "id": "crd0ZW9C3cm8",
        "outputId": "f85cb33e-be75-4fec-aeb9-06e9eeeb5642"
      },
      "source": [
        "# find the modulus\n",
        "5%2"
      ],
      "execution_count": 35,
      "outputs": [
        {
          "output_type": "execute_result",
          "data": {
            "text/plain": [
              "1"
            ]
          },
          "metadata": {
            "tags": []
          },
          "execution_count": 35
        }
      ]
    },
    {
      "cell_type": "code",
      "metadata": {
        "colab": {
          "base_uri": "https://localhost:8080/"
        },
        "id": "mqZmm5si3iNg",
        "outputId": "04f5124f-ab9d-4bfe-cec2-09171c7e130f"
      },
      "source": [
        "# floor division\n",
        "7//2"
      ],
      "execution_count": 37,
      "outputs": [
        {
          "output_type": "execute_result",
          "data": {
            "text/plain": [
              "3"
            ]
          },
          "metadata": {
            "tags": []
          },
          "execution_count": 37
        }
      ]
    },
    {
      "cell_type": "code",
      "metadata": {
        "id": "6hz6tlwV4W70"
      },
      "source": [
        ""
      ],
      "execution_count": null,
      "outputs": []
    }
  ]
}